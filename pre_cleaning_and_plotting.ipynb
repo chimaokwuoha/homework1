{
 "cells": [
  {
   "cell_type": "code",
   "execution_count": 188,
   "metadata": {},
   "outputs": [
    {
     "data": {
      "text/html": [
       "<div>\n",
       "<style>\n",
       "    .dataframe thead tr:only-child th {\n",
       "        text-align: right;\n",
       "    }\n",
       "\n",
       "    .dataframe thead th {\n",
       "        text-align: left;\n",
       "    }\n",
       "\n",
       "    .dataframe tbody tr th {\n",
       "        vertical-align: top;\n",
       "    }\n",
       "</style>\n",
       "<table border=\"1\" class=\"dataframe\">\n",
       "  <thead>\n",
       "    <tr style=\"text-align: right;\">\n",
       "      <th></th>\n",
       "      <th>review</th>\n",
       "    </tr>\n",
       "  </thead>\n",
       "  <tbody>\n",
       "    <tr>\n",
       "      <th>0</th>\n",
       "      <td>&lt;p class=\"media-deck\"&gt; Here is the online role...</td>\n",
       "    </tr>\n",
       "    <tr>\n",
       "      <th>1</th>\n",
       "      <td>&lt;p class=\"media-deck\"&gt; The Elder Scrolls IV: O...</td>\n",
       "    </tr>\n",
       "    <tr>\n",
       "      <th>2</th>\n",
       "      <td>&lt;p class=\"media-deck\"&gt; World in Conflict is a ...</td>\n",
       "    </tr>\n",
       "    <tr>\n",
       "      <th>3</th>\n",
       "      <td>&lt;p class=\"media-deck\"&gt; Halo 3 builds upon the ...</td>\n",
       "    </tr>\n",
       "    <tr>\n",
       "      <th>4</th>\n",
       "      <td>&lt;p class=\"media-deck\"&gt; Between Half-Life 2, Po...</td>\n",
       "    </tr>\n",
       "  </tbody>\n",
       "</table>\n",
       "</div>"
      ],
      "text/plain": [
       "                                              review\n",
       "0  <p class=\"media-deck\"> Here is the online role...\n",
       "1  <p class=\"media-deck\"> The Elder Scrolls IV: O...\n",
       "2  <p class=\"media-deck\"> World in Conflict is a ...\n",
       "3  <p class=\"media-deck\"> Halo 3 builds upon the ...\n",
       "4  <p class=\"media-deck\"> Between Half-Life 2, Po..."
      ]
     },
     "execution_count": 188,
     "metadata": {},
     "output_type": "execute_result"
    }
   ],
   "source": [
    "import pandas\n",
    "import nltk\n",
    "#nltk.download()\n",
    "from nltk.corpus import stopwords \n",
    "from nltk.tokenize import word_tokenize\n",
    " \n",
    "## This code was redited multiple times to generate all four plots used in the presentation \n",
    "##since all dataframes were virtually used in similar way(for word frequency counting)\n",
    "    \n",
    "    \n",
    "    \n",
    "    \n",
    "reviews=pandas.read_csv('greview.csv')\n",
    "reviews.head()http://localhost:8888/notebooks/pre_cleaning_and_plotting.ipynb#"
   ]
  },
  {
   "cell_type": "code",
   "execution_count": 189,
   "metadata": {},
   "outputs": [
    {
     "name": "stdout",
     "output_type": "stream",
     "text": [
      "['i', 'me', 'my', 'myself', 'we', 'our', 'ours', 'ourselves', 'you', \"you're\", \"you've\", \"you'll\", \"you'd\", 'your', 'yours', 'yourself', 'yourselves', 'he', 'him', 'his', 'himself', 'she', \"she's\", 'her', 'hers', 'herself', 'it', \"it's\", 'its', 'itself', 'they', 'them', 'their', 'theirs', 'themselves', 'what', 'which', 'who', 'whom', 'this', 'that', \"that'll\", 'these', 'those', 'am', 'is', 'are', 'was', 'were', 'be', 'been', 'being', 'have', 'has', 'had', 'having', 'do', 'does', 'did', 'doing', 'a', 'an', 'the', 'and', 'but', 'if', 'or', 'because', 'as', 'until', 'while', 'of', 'at', 'by', 'for', 'with', 'about', 'against', 'between', 'into', 'through', 'during', 'before', 'after', 'above', 'below', 'to', 'from', 'up', 'down', 'in', 'out', 'on', 'off', 'over', 'under', 'again', 'further', 'then', 'once', 'here', 'there', 'when', 'where', 'why', 'how', 'all', 'any', 'both', 'each', 'few', 'more', 'most', 'other', 'some', 'such', 'no', 'nor', 'not', 'only', 'own', 'same', 'so', 'than', 'too', 'very', 's', 't', 'can', 'will', 'just', 'don', \"don't\", 'should', \"should've\", 'now', 'd', 'll', 'm', 'o', 're', 've', 'y', 'ain', 'aren', \"aren't\", 'couldn', \"couldn't\", 'didn', \"didn't\", 'doesn', \"doesn't\", 'hadn', \"hadn't\", 'hasn', \"hasn't\", 'haven', \"haven't\", 'isn', \"isn't\", 'ma', 'mightn', \"mightn't\", 'mustn', \"mustn't\", 'needn', \"needn't\", 'shan', \"shan't\", 'shouldn', \"shouldn't\", 'wasn', \"wasn't\", 'weren', \"weren't\", 'won', \"won't\", 'wouldn', \"wouldn't\"]\n"
     ]
    },
    {
     "data": {
      "text/plain": [
       "14028"
      ]
     },
     "execution_count": 189,
     "metadata": {},
     "output_type": "execute_result"
    }
   ],
   "source": [
    "print(stopwords.words(\"english\"))\n",
    "reviews.shape[0]"
   ]
  },
  {
   "cell_type": "code",
   "execution_count": 190,
   "metadata": {},
   "outputs": [
    {
     "ename": "SyntaxError",
     "evalue": "invalid syntax (<ipython-input-190-acdf62e7a409>, line 28)",
     "output_type": "error",
     "traceback": [
      "\u001b[1;36m  File \u001b[1;32m\"<ipython-input-190-acdf62e7a409>\"\u001b[1;36m, line \u001b[1;32m28\u001b[0m\n\u001b[1;33m    'with', 'feel', 'flaws', 'definitely', 'bit', 'poor',ultimately', 'even', 'lacks', 'looks',\u001b[0m\n\u001b[1;37m                                                                      ^\u001b[0m\n\u001b[1;31mSyntaxError\u001b[0m\u001b[1;31m:\u001b[0m invalid syntax\n"
     ]
    }
   ],
   "source": [
    "##PRE CLEANING\n",
    "\n",
    "stop_words = stopwords.words('english')\n",
    "stop_words=stop_words+['game','games','The','one','make',\"n't\",'best',\n",
    "                       'fun',  'gameplay', 'good',  'new', 'great', 'this', \n",
    "                        'series', 'fans', '...', 'still', 'experience', 'play', \n",
    "                        'much', 'like', 'enough',  'makes',  'world', 'even',  \"'re\", \n",
    "                        'little',  'may',  'version', 'well',  'better', 'solid', 'enjoyable',\n",
    "                        'offers',  'time', 'lot', 'though', 'while','features', 'classic',\n",
    "                        'way', 'looking', 'get', 'short', 'really', 'first',\n",
    "                        'design', 'many', 'controls', 'worth', 'find',  \"'ll\", \n",
    "                        'keep', 'despite',  'interesting', 'entertaining', 'genre', \n",
    "                        'exciting', 'year', 'look', 'fan',  'anyone',  'problems',\n",
    "                        'players', 'excellent', 'long','could', 'yet',  'every',  'last', \n",
    "                        'want', 'presentation', 'plenty', 'take', 'issues', 'another', \n",
    "                       'ever', 'formula', 'predecessor', 'enjoy', 'made', 'system', \n",
    "                       'content', 'satisfying', 'also', 'decent', 'right', 'repetitive', \n",
    "                       'appeal', 'level', 'back', 'amp', 'baseball', 'would', \n",
    "                       'simulation', 'probably', 'already', 'impressive', 'simply', 'with', \n",
    "                       'far', 'engaging', 'previous', 'elements', 'big', 'modes', 'bad',\n",
    "                       'almost', 'feels', 'movie', 'number', 'shallow', 'easy', 'deep',\n",
    "                       'around', 'expansion', 'anything', 'end', 'fails', 'levels', 'comes',\n",
    "                       'never', 'beautiful', 'years', 'dull', 'port', 'strong', 'dead', \n",
    "                       'hard', 'adds', 'worthwhile', 'come', 'certainly', 'addition', \n",
    "                       'fantastic', 'gaming', 'intense', 'everything', 'available', 'serious', \n",
    "                       'simplistic', 'done', 'game', 'bugs', 'familiar', 'easily', 'core', 'love', 'battle',\n",
    "                      'this','This', 'while', 'lack', \"'ve\", 'might', 'playing', 'quite',  'there', 'title', 'despite',  \n",
    "                       'with', 'feel', 'flaws', 'definitely', 'bit', 'poor',ultimately', 'even', 'lacks', 'looks', \n",
    "                       'need', 'improvements', 'overall','you', 'gets', 'expect', 'value', 'give', 'game', 'extremely', \n",
    "                       'flawed', 'super', 'III', 'making', 'brings', 'friends', 'away', 'license', 'actually', 'king',\n",
    "                       'fast', 'date', 'highly', 'boy', 'pack', 'effort', 'amount', '2004', 'concept', '2002', '360', \n",
    "                       'boring', 'competent', 'add', '2003', 'aside', 'additions', 'attempt',\n",
    "                       'ambitious', '2000', 'attention', 'add-on', 'execution', 'aspects', 'board', 'absolutely', 'change']\n",
    "stop_words=set(stop_words)\n",
    "\n",
    "for i in range(reviews.shape[0]):\n",
    "    #the next 2 lines gets rid of remainign HTML\n",
    "    reviews['review'][i]=reviews['review'][i][22:]\n",
    "    reviews['review'][i]=reviews['review'][i][:-4]\n",
    "    \n",
    "    # the next three lines tokenizes sentences, gets rid of stopwords and character strings size 2 or less\n",
    "    reviews['review'][i]=word_tokenize(reviews['review'][i])\n",
    "    reviews['review'][i] = [w for w in reviews['review'][i] if not w in stop_words]\n",
    "    reviews['review'][i] = [w for w in reviews['review'][i] if len(w)>2]\n",
    "\n",
    "##PRE CLEANING    "
   ]
  },
  {
   "cell_type": "code",
   "execution_count": null,
   "metadata": {
    "collapsed": true
   },
   "outputs": [],
   "source": [
    "reviews.head()"
   ]
  },
  {
   "cell_type": "code",
   "execution_count": null,
   "metadata": {
    "collapsed": true
   },
   "outputs": [],
   "source": [
    "wordlist=[]\n",
    "for i in range(reviews.shape[0]):\n",
    "    reviews['review'][i] = [w.lower() for w in reviews['review'][i]]# make sure everything is lower case\n",
    "\n",
    "\n",
    "\n",
    "\n",
    "reviews.head()"
   ]
  },
  {
   "cell_type": "code",
   "execution_count": null,
   "metadata": {
    "collapsed": true
   },
   "outputs": [],
   "source": [
    "wordlist=[]\n",
    "for i in range(reviews.shape[0]):\n",
    "    wordlist=wordlist+reviews['review'][i]#make one long super list contimanog every word \n",
    "\n",
    "print('done')\n",
    "    #   reviews['review'][i] = [w.lower() for w in reviews['review'][i]]# make sure everything is lower case\\\n",
    "wordlist"
   ]
  },
  {
   "cell_type": "code",
   "execution_count": null,
   "metadata": {
    "collapsed": true
   },
   "outputs": [],
   "source": [
    "wordfreq = []\n",
    "for w in wordlist:\n",
    "    wordfreq.append(wordlist.count(w))\n",
    "    \n",
    "\n",
    "wordfreq"
   ]
  },
  {
   "cell_type": "code",
   "execution_count": null,
   "metadata": {
    "collapsed": true
   },
   "outputs": [],
   "source": [
    "s=str(zip(wordlist, wordfreq))\n",
    "s"
   ]
  },
  {
   "cell_type": "code",
   "execution_count": null,
   "metadata": {
    "collapsed": true
   },
   "outputs": [],
   "source": [
    "def wordListToFreqDict(wordlist):\n",
    "    wordfreq = [wordlist.count(p) for p in wordlist]\n",
    "    return dict(zip(wordlist,wordfreq))"
   ]
  },
  {
   "cell_type": "code",
   "execution_count": null,
   "metadata": {
    "collapsed": true
   },
   "outputs": [],
   "source": [
    "def sortFreqDict(freqdict):\n",
    "    aux = [(freqdict[key], key) for key in freqdict]\n",
    "    aux.sort()\n",
    "    aux.reverse()\n",
    "    return aux"
   ]
  },
  {
   "cell_type": "code",
   "execution_count": null,
   "metadata": {
    "collapsed": true
   },
   "outputs": [],
   "source": [
    "dictionary = wordListToFreqDict(wordlist)\n",
    "sorteddict = sortFreqDict(dictionary)\n",
    "print('done')"
   ]
  },
  {
   "cell_type": "code",
   "execution_count": null,
   "metadata": {
    "collapsed": true
   },
   "outputs": [],
   "source": [
    "print(sorteddict)"
   ]
  },
  {
   "cell_type": "code",
   "execution_count": null,
   "metadata": {
    "collapsed": true
   },
   "outputs": [],
   "source": [
    "import numpy as np\n",
    "import matplotlib.pyplot as plt\n",
    "\n"
   ]
  },
  {
   "cell_type": "code",
   "execution_count": 236,
   "metadata": {},
   "outputs": [
    {
     "data": {
      "text/plain": [
       "[('action', 1014),\n",
       " ('this', 814),\n",
       " ('adventure', 682),\n",
       " ('shooter', 514),\n",
       " ('combat', 512),\n",
       " ('racing', 477),\n",
       " ('strategy', 449),\n",
       " ('original', 415),\n",
       " ('story', 375),\n",
       " ('while', 372),\n",
       " ('multiplayer', 345),\n",
       " ('online', 307),\n",
       " ('role-playing', 300),\n",
       " ('arcade', 297),\n",
       " ('graphics', 294),\n",
       " ('puzzle', 270),\n",
       " ('world', 248),\n",
       " ('unique', 248),\n",
       " ('playstation', 232),\n",
       " ('challenging', 226),\n",
       " ('lack', 223),\n",
       " ('frustrating', 220),\n",
       " ('fighting', 220),\n",
       " ('mode', 216),\n",
       " ('football', 216),\n",
       " (\"'ve\", 216),\n",
       " ('might', 215),\n",
       " ('simple', 212),\n",
       " ('delivers', 212),\n",
       " ('playing', 210),\n",
       " ('quite', 205),\n",
       " ('puzzles', 204),\n",
       " ('mechanics', 200),\n",
       " ('platformer', 191),\n",
       " ('control', 191),\n",
       " ('war', 190),\n",
       " ('there', 190),\n",
       " ('pretty', 188),\n",
       " ('xbox', 183),\n",
       " ('racer', 182),\n",
       " ('title', 181),\n",
       " ('challenge', 180),\n",
       " ('despite', 178),\n",
       " ('characters', 176),\n",
       " ('collection', 171)]"
      ]
     },
     "execution_count": 236,
     "metadata": {},
     "output_type": "execute_result"
    }
   ],
   "source": [
    "x=sorteddict[0:45]\n",
    "x=[(t[1], t[0]) for t in x]\n",
    "x"
   ]
  },
  {
   "cell_type": "code",
   "execution_count": 239,
   "metadata": {
    "collapsed": true
   },
   "outputs": [],
   "source": [
    "y=dict(x)\n",
    "\n",
    "if 'this' in y:\n",
    "    del y['this']\n",
    "    del y[\"'ve\"]\n",
    "    del y['action'] \n",
    "  #  del y['this']\n",
    "    del y['adventure']\n",
    "    del y['shooter']\n",
    " \n",
    "z=['combat', 'racing', 'strategy', 'original', 'story', 'while', \n",
    "   'multiplayer', 'online', 'role-playing', 'arcade', 'graphics', \n",
    "   'puzzle', 'world', 'unique', 'playstation', 'challenging', \n",
    "   'lack', 'fighting', 'mode', 'might', 'simple', 'delivers', \n",
    "   'playing', 'quite', 'mechanics', 'control', 'war', \n",
    "   'there', 'pretty', 'xbox', 'racer', 'title',\n",
    "   'challenge', 'despite', 'characters', 'collection', \n",
    "   'without', 'sequel', 'campaign', 'style', 'console']\n",
    "for i in z:\n",
    "    if i in y:\n",
    "        del y[i]\n",
    "\n"
   ]
  },
  {
   "cell_type": "code",
   "execution_count": 242,
   "metadata": {},
   "outputs": [
    {
     "data": {
      "image/png": "[encoded data removed]",
      "text/plain": [
       "<matplotlib.figure.Figure at 0x22572969550>"
      ]
     },
     "metadata": {},
     "output_type": "display_data"
    }
   ],
   "source": [
    "width=1.0\n",
    "\n",
    "\n",
    "plt.bar(list(y.keys()), y.values(), align='center', alpha=0.5)\n",
    "plt.xlabel('Words')\n",
    "plt.ylabel('Frequency')\n",
    "plt.title('least reoccuring descriptive Phrases')\n",
    "\n",
    "plt.show()"
   ]
  },
  {
   "cell_type": "code",
   "execution_count": null,
   "metadata": {
    "collapsed": true
   },
   "outputs": [],
   "source": []
  },
  {
   "cell_type": "code",
   "execution_count": null,
   "metadata": {
    "collapsed": true
   },
   "outputs": [],
   "source": []
  },
  {
   "cell_type": "code",
   "execution_count": null,
   "metadata": {
    "collapsed": true
   },
   "outputs": [],
   "source": []
  }
 ],
 "metadata": {
  "kernelspec": {
   "display_name": "Python 3",
   "language": "python",
   "name": "python3"
  },
  "language_info": {
   "codemirror_mode": {
    "name": "ipython",
    "version": 3
   },
   "file_extension": ".py",
   "mimetype": "text/x-python",
   "name": "python",
   "nbconvert_exporter": "python",
   "pygments_lexer": "ipython3",
   "version": "3.6.3"
  }
 },
 "nbformat": 4,
 "nbformat_minor": 2
}
